{
  "nbformat": 4,
  "nbformat_minor": 0,
  "metadata": {
    "colab": {
      "name": "Copy of Fuji.ipynb",
      "provenance": [],
      "collapsed_sections": [],
      "include_colab_link": true
    },
    "kernelspec": {
      "name": "python3",
      "display_name": "Python 3"
    }
  },
  "cells": [
    {
      "cell_type": "markdown",
      "metadata": {
        "id": "view-in-github",
        "colab_type": "text"
      },
      "source": [
        "<a href=\"https://colab.research.google.com/github/Drakies3172/machine-learning-DIVE-INTO-CODE/blob/main/fuji-week2.ipynb\" target=\"_parent\"><img src=\"https://colab.research.google.com/assets/colab-badge.svg\" alt=\"Open In Colab\"/></a>"
      ]
    },
    {
      "cell_type": "markdown",
      "metadata": {
        "id": "-IEhZiUEUmv-"
      },
      "source": [
        "[Problem 1] Minimum number of folds over Mt. Fuji"
      ]
    },
    {
      "cell_type": "code",
      "metadata": {
        "colab": {
          "base_uri": "https://localhost:8080/"
        },
        "id": "Wy8-m8eOUhc2",
        "outputId": "31ab88c4-38be-4c08-e617-5b98943e2a56"
      },
      "source": [
        "THICK_NESS = 0.00008\r\n",
        "height = THICK_NESS\r\n",
        "FUJI_HEIGHT = 3776\r\n",
        "folds = 0\r\n",
        "while height < FUJI_HEIGHT:\r\n",
        "  folds += 1\r\n",
        "  height *= 2\r\n",
        "\r\n",
        "print(\"folds needed: \", folds )"
      ],
      "execution_count": null,
      "outputs": [
        {
          "output_type": "stream",
          "text": [
            "folds needed:  26\n"
          ],
          "name": "stdout"
        }
      ]
    },
    {
      "cell_type": "markdown",
      "metadata": {
        "id": "5jgI0OlcWLLG"
      },
      "source": [
        "[Problem 2] Creating a function corresponding to an arbitrary thickness"
      ]
    },
    {
      "cell_type": "code",
      "metadata": {
        "colab": {
          "base_uri": "https://localhost:8080/"
        },
        "id": "leCtGjd6WNoH",
        "outputId": "cd785d3d-feb3-4791-ce0a-510716fdde30"
      },
      "source": [
        "def calTimes(thickness, distance):\r\n",
        "  height = thickness\r\n",
        "  folds = 0\r\n",
        "\r\n",
        "  while height < distance:\r\n",
        "    folds += 1\r\n",
        "    height = height*2\r\n",
        "  \r\n",
        "  return folds\r\n",
        "\r\n",
        "Proxima_Centauri = 40208000000000000 #me\r\n",
        "print(\"It requires {} folds needed to reach the closet non sun start \".format( calTimes(0.00008, Proxima_Centauri)))"
      ],
      "execution_count": null,
      "outputs": [
        {
          "output_type": "stream",
          "text": [
            "It requires 69 folds needed to reach the closet non sun start \n"
          ],
          "name": "stdout"
        }
      ]
    },
    {
      "cell_type": "markdown",
      "metadata": {
        "id": "u3Pg9AujZeWW"
      },
      "source": [
        "[Problem 3] Required paper length"
      ]
    },
    {
      "cell_type": "code",
      "metadata": {
        "colab": {
          "base_uri": "https://localhost:8080/"
        },
        "id": "gXYdEkRcZfgn",
        "outputId": "4bffb047-7a91-43bf-80a5-07a713ec64bc"
      },
      "source": [
        "import math\r\n",
        "def paper_length(distance):\r\n",
        "  t0 = 0.00008\r\n",
        "  tn = 1\r\n",
        "  folds = 1\r\n",
        "  L = 1\r\n",
        "  while tn < distance:\r\n",
        "    tn = t0 * (2**folds)\r\n",
        "    L = ((math.pi * t0) / 6.0) * (2**folds + 4) * (2**folds - 1)\r\n",
        "    folds += 1\r\n",
        "  \r\n",
        "  \r\n",
        "  return L\r\n",
        "\r\n",
        "moon = 384400000\r\n",
        "sun = 149597870000\r\n",
        "fuji = 3776\r\n",
        "\r\n",
        "\r\n",
        "print(\"Paper length need to reach moon: \", paper_length(moon))\r\n",
        "print(\"Paper length need to reach sun: \", paper_length(sun))\r\n",
        "print(\"Paper length need to reach Mt Fuji: \", paper_length(fuji))"
      ],
      "execution_count": null,
      "outputs": [
        {
          "output_type": "stream",
          "text": [
            "Paper length need to reach moon:  3.240919444170781e+21\n",
            "Paper length need to reach sun:  2.1239689669310416e+26\n",
            "Paper length need to reach Mt Fuji:  188646348487.24017\n"
          ],
          "name": "stdout"
        }
      ]
    }
  ]
}