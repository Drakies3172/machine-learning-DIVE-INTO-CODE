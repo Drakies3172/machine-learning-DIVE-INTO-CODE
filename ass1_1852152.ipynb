{
  "nbformat": 4,
  "nbformat_minor": 0,
  "metadata": {
    "colab": {
      "name": "ass1_1852152.ipynb",
      "provenance": [],
      "authorship_tag": "ABX9TyPN6mZIbkdQcoZAAazQ3ZDu",
      "include_colab_link": true
    },
    "kernelspec": {
      "name": "python3",
      "display_name": "Python 3"
    }
  },
  "cells": [
    {
      "cell_type": "markdown",
      "metadata": {
        "id": "view-in-github",
        "colab_type": "text"
      },
      "source": [
        "<a href=\"https://colab.research.google.com/github/Drakies3172/machine-learning-DIVE-INTO-CODE/blob/main/ass1_1852152.ipynb\" target=\"_parent\"><img src=\"https://colab.research.google.com/assets/colab-badge.svg\" alt=\"Open In Colab\"/></a>"
      ]
    },
    {
      "cell_type": "markdown",
      "metadata": {
        "id": "78aFAyj0ZPbG"
      },
      "source": [
        "Problem 1: Using the exponentiation arithmetic operator"
      ]
    },
    {
      "cell_type": "code",
      "metadata": {
        "colab": {
          "base_uri": "https://localhost:8080/"
        },
        "id": "8HrtvX_YZamu",
        "outputId": "ffddbe80-c530-4149-928a-8f0374581ecb"
      },
      "source": [
        "THICKNESS = 0.00008\r\n",
        "folded_thickness = THICKNESS*2**43\r\n",
        "print(\"Thickness: {} meters\".format(folded_thickness))"
      ],
      "execution_count": 3,
      "outputs": [
        {
          "output_type": "stream",
          "text": [
            "Thickness: 703687441.77664 meters\n"
          ],
          "name": "stdout"
        }
      ]
    },
    {
      "cell_type": "markdown",
      "metadata": {
        "id": "hhQPeREPbTSK"
      },
      "source": [
        "\r\n",
        "Problem 2:Unit Conversion"
      ]
    },
    {
      "cell_type": "code",
      "metadata": {
        "colab": {
          "base_uri": "https://localhost:8080/"
        },
        "id": "qJt62TdSZvpa",
        "outputId": "551e9b00-74b4-4eb1-ccb0-e9b53572b3a8"
      },
      "source": [
        "print(\"Thickness: {: .2f} * 10,000 kilometers\".format(folded_thickness/(1000*10000) ))\r\n",
        "DISTANCE_TO_THE_MOON = 384400\r\n",
        "\r\n",
        "if folded_thickness >= DISTANCE_TO_THE_MOON:\r\n",
        "    print(\"The folded paper reaches the moon\")"
      ],
      "execution_count": 11,
      "outputs": [
        {
          "output_type": "stream",
          "text": [
            "Thickness:  70.37 * 10,000 kilometers\n",
            "The folded paper reaches the moon\n"
          ],
          "name": "stdout"
        }
      ]
    },
    {
      "cell_type": "markdown",
      "metadata": {
        "id": "esJdPP3ScdZi"
      },
      "source": [
        "Problem 3: Create using a for statement"
      ]
    },
    {
      "cell_type": "code",
      "metadata": {
        "colab": {
          "base_uri": "https://localhost:8080/"
        },
        "id": "qfCbwTX1coMN",
        "outputId": "0a77b6b2-9763-4851-8cb8-d756287bbfea"
      },
      "source": [
        "def folding_paper(thick_ness,times):\r\n",
        "  folded_thickness = thick_ness\r\n",
        "  for i in range(0,times):\r\n",
        "    folded_thickness = folded_thickness *2\r\n",
        "  return folded_thickness\r\n",
        "print(\"Thickness: {} meters\".format(folding_paper(THICKNESS,43)))"
      ],
      "execution_count": 25,
      "outputs": [
        {
          "output_type": "stream",
          "text": [
            "Thickness: 703687441.77664 meters\n"
          ],
          "name": "stdout"
        }
      ]
    },
    {
      "cell_type": "markdown",
      "metadata": {
        "id": "5gJyZybqgvtS"
      },
      "source": [
        "\r\n",
        "Problem 4: Comparison of calculation time"
      ]
    },
    {
      "cell_type": "code",
      "metadata": {
        "colab": {
          "base_uri": "https://localhost:8080/"
        },
        "id": "eQmEOo4ferud",
        "outputId": "15a6e255-1789-4780-ceaa-3d68300a2880"
      },
      "source": [
        "import time\r\n",
        "start = time.time()\r\n",
        "THICKNESS*2**43\r\n",
        "elapsed_time = time.time() - start\r\n",
        "print(\"time : {}[s] using exponentiation arithmetic operator\".format(elapsed_time))\r\n",
        "\r\n",
        "start = time.time()\r\n",
        "folding_paper(THICKNESS,43)\r\n",
        "elapsed_time = time.time() - start\r\n",
        "print(\"time : {}[s] using for statement\".format(elapsed_time))"
      ],
      "execution_count": 29,
      "outputs": [
        {
          "output_type": "stream",
          "text": [
            "time : 7.224082946777344e-05[s] using exponentiation arithmetic operator\n",
            "time : 8.392333984375e-05[s] using for statement\n"
          ],
          "name": "stdout"
        }
      ]
    },
    {
      "cell_type": "markdown",
      "metadata": {
        "id": "uneTwRILfcd5"
      },
      "source": [
        "It is pretty difficult to see the differences so I will increase the repetitions"
      ]
    },
    {
      "cell_type": "code",
      "metadata": {
        "colab": {
          "base_uri": "https://localhost:8080/"
        },
        "id": "uF_13YgjhWpo",
        "outputId": "9682d878-f64d-4654-8001-af31cd5e5d36"
      },
      "source": [
        "start = time.time()\r\n",
        "THICKNESS*2**1000\r\n",
        "elapsed_time = time.time() - start\r\n",
        "print(\"time : {}[s] using exponentiation arithmetic operator\".format(elapsed_time))\r\n",
        "start = time.time()\r\n",
        "folding_paper(THICKNESS,1000)\r\n",
        "elapsed_time = time.time() - start\r\n",
        "print(\"time : {}[s] using for statement\".format(elapsed_time))"
      ],
      "execution_count": 53,
      "outputs": [
        {
          "output_type": "stream",
          "text": [
            "time : 7.867813110351562e-05[s] using exponentiation arithmetic operator\n",
            "time : 0.00017547607421875[s] using for statement\n"
          ],
          "name": "stdout"
        }
      ]
    },
    {
      "cell_type": "markdown",
      "metadata": {
        "id": "54S_LIc_jT44"
      },
      "source": [
        "Conclusion:\r\n",
        "\r\n",
        "\r\n",
        "1.   Using arithmetic operator will give shorter time execution\r\n",
        "2.   However, defining a function for calculating thickness using for loop will give better memory usage, readability, scalability and reusability\r\n",
        "\r\n"
      ]
    },
    {
      "cell_type": "markdown",
      "metadata": {
        "id": "jjgLMiISlC7u"
      },
      "source": [
        "Problem 5: Saving to a list"
      ]
    },
    {
      "cell_type": "code",
      "metadata": {
        "colab": {
          "base_uri": "https://localhost:8080/"
        },
        "id": "zBRwJshgkX7W",
        "outputId": "a0c956b7-bade-4833-c91f-f4ef442d4120"
      },
      "source": [
        "thicknessList = []\r\n",
        "\r\n",
        "for i in range(44):\r\n",
        "    thicknessList.append(THICKNESS*(2**i))\r\n",
        "print(len(thicknessList))"
      ],
      "execution_count": 60,
      "outputs": [
        {
          "output_type": "stream",
          "text": [
            "703687441.77664\n",
            "44\n"
          ],
          "name": "stdout"
        }
      ]
    },
    {
      "cell_type": "markdown",
      "metadata": {
        "id": "z5cIrWotlSVj"
      },
      "source": [
        "\r\n",
        "Problem 6: Displaying a line graph"
      ]
    },
    {
      "cell_type": "code",
      "metadata": {
        "colab": {
          "base_uri": "https://localhost:8080/",
          "height": 295
        },
        "id": "ZkV04CFLlTEH",
        "outputId": "5af0e203-19dc-4b59-af4d-6bb0303f43aa"
      },
      "source": [
        "import matplotlib.pyplot as plt\r\n",
        "\r\n",
        "%matplotlib inline\r\n",
        "plt.title(\"thickness of folded paper\")\r\n",
        "plt.xlabel(\"number of folds\")\r\n",
        "plt.ylabel(\"thickness[hundred thousand kilometers]\")\r\n",
        "plt.plot(thicknessList)\r\n",
        "plt.show()"
      ],
      "execution_count": 62,
      "outputs": [
        {
          "output_type": "display_data",
          "data": {
            "image/png": "[encoded data removed]",
            "text/plain": [
              "<Figure size 432x288 with 1 Axes>"
            ]
          },
          "metadata": {
            "tags": [],
            "needs_background": "light"
          }
        }
      ]
    },
    {
      "cell_type": "markdown",
      "metadata": {
        "id": "9JplYMOnlZv9"
      },
      "source": [
        "\r\n",
        "The thickness of the folded paper remains constant during the first 36 folds. From about 37 folds to 40 folds, it rises rapidly. When the thickness approaches 1 hundred thousand kilometers, it rokets (as I can see the curve is almost vertical)."
      ]
    },
    {
      "cell_type": "markdown",
      "metadata": {
        "id": "5hRM6g6gnchv"
      },
      "source": [
        "Problem 7: Customizing graphs"
      ]
    },
    {
      "cell_type": "markdown",
      "metadata": {
        "id": "_z6ixwSvnnm1"
      },
      "source": [
        "Black line"
      ]
    },
    {
      "cell_type": "code",
      "metadata": {
        "colab": {
          "base_uri": "https://localhost:8080/",
          "height": 295
        },
        "id": "6Bzrfxg6ncDx",
        "outputId": "dda0de2b-111f-4536-c128-f743d4a7d997"
      },
      "source": [
        "import matplotlib.pyplot as plt\r\n",
        "\r\n",
        "%matplotlib inline\r\n",
        "plt.title(\"thickness of folded paper\")\r\n",
        "plt.xlabel(\"number of folds\")\r\n",
        "plt.ylabel(\"thickness[hundred thousand kilometers]\")\r\n",
        "plt.plot(thicknessList, color='yellow')\r\n",
        "plt.show()"
      ],
      "execution_count": 64,
      "outputs": [
        {
          "output_type": "display_data",
          "data": {
            "image/png": "[encoded data removed]",
            "text/plain": [
              "<Figure size 432x288 with 1 Axes>"
            ]
          },
          "metadata": {
            "tags": [],
            "needs_background": "light"
          }
        }
      ]
    },
    {
      "cell_type": "markdown",
      "metadata": {
        "id": "RwDsIzg-nrJF"
      },
      "source": [
        "Thicker line\r\n"
      ]
    },
    {
      "cell_type": "code",
      "metadata": {
        "colab": {
          "base_uri": "https://localhost:8080/",
          "height": 300
        },
        "id": "PGzB_huloD7N",
        "outputId": "1e03855c-a532-49ec-d9da-29d59f4d4266"
      },
      "source": [
        "plt.title(\"thickness of folded paper\")\r\n",
        "plt.xlabel(\"number of folds\")\r\n",
        "plt.ylabel(\"thickness[m]\")\r\n",
        "plt.tick_params(labelsize=15) # Make settings related to axis values\r\n",
        "plt.plot(thicknessList)\r\n",
        "plt.show()"
      ],
      "execution_count": 68,
      "outputs": [
        {
          "output_type": "display_data",
          "data": {
            "image/png": "[encoded data removed]",
            "text/plain": [
              "<Figure size 432x288 with 1 Axes>"
            ]
          },
          "metadata": {
            "tags": [],
            "needs_background": "light"
          }
        }
      ]
    },
    {
      "cell_type": "markdown",
      "metadata": {
        "id": "qgK1fJ7Hocch"
      },
      "source": [
        "Dotted line"
      ]
    },
    {
      "cell_type": "code",
      "metadata": {
        "colab": {
          "base_uri": "https://localhost:8080/",
          "height": 295
        },
        "id": "bzosquV5oeOT",
        "outputId": "e7c5d2dd-a6b0-4f61-b56b-e59706193a50"
      },
      "source": [
        "plt.title(\"thickness of folded paper\")\r\n",
        "plt.xlabel(\"number of folds\")\r\n",
        "plt.ylabel(\"thickness[m]\")\r\n",
        "plt.plot(thicknessList, linestyle='-.')\r\n",
        "plt.show()"
      ],
      "execution_count": 69,
      "outputs": [
        {
          "output_type": "display_data",
          "data": {
            "image/png": "[encoded data removed]",
            "text/plain": [
              "<Figure size 432x288 with 1 Axes>"
            ]
          },
          "metadata": {
            "tags": [],
            "needs_background": "light"
          }
        }
      ]
    }
  ]
}