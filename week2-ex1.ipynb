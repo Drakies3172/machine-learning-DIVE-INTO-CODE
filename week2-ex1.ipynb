{
  "nbformat": 4,
  "nbformat_minor": 0,
  "metadata": {
    "colab": {
      "name": "Untitled1.ipynb",
      "provenance": [],
      "authorship_tag": "ABX9TyN+56QwDmqIYqGBuppz4Dbt",
      "include_colab_link": true
    },
    "kernelspec": {
      "name": "python3",
      "display_name": "Python 3"
    }
  },
  "cells": [
    {
      "cell_type": "markdown",
      "metadata": {
        "id": "view-in-github",
        "colab_type": "text"
      },
      "source": [
        "<a href=\"https://colab.research.google.com/github/Drakies3172/machine-learning-DIVE-INTO-CODE/blob/main/week2-ex1.ipynb\" target=\"_parent\"><img src=\"https://colab.research.google.com/assets/colab-badge.svg\" alt=\"Open In Colab\"/></a>"
      ]
    },
    {
      "cell_type": "markdown",
      "metadata": {
        "id": "ZEDAnu31nfy7"
      },
      "source": [
        "Problem 1: Number of grains of rice on the 100th day"
      ]
    },
    {
      "cell_type": "code",
      "metadata": {
        "colab": {
          "base_uri": "https://localhost:8080/"
        },
        "id": "Spb4-AlpkP2I",
        "outputId": "64ca061e-4682-4cb5-d3fc-49684718d9db"
      },
      "source": [
        "Lrice = [1]\r\n",
        "for i in range(1,100):\r\n",
        "  Lrice.append(Lrice[i-1]*2)\r\n",
        "print(\"In day {},the grains of rice is {}\".format(100,Lrice[99]) )"
      ],
      "execution_count": 14,
      "outputs": [
        {
          "output_type": "stream",
          "text": [
            "In day 100, number of rice is 633825300114114700748351602688\n"
          ],
          "name": "stdout"
        }
      ]
    },
    {
      "cell_type": "markdown",
      "metadata": {
        "id": "X8svnJRFm4LU"
      },
      "source": [
        "Because we already filled the first element of the list, the loop only add 99 elements. There are 633825300114114700748351602688 grains of rice in the 100 day"
      ]
    },
    {
      "cell_type": "code",
      "metadata": {
        "colab": {
          "base_uri": "https://localhost:8080/",
          "height": 290
        },
        "id": "zRFG3z_8q_kW",
        "outputId": "929d790d-21a0-40f5-ac6a-716af2e9702f"
      },
      "source": [
        "import matplotlib.pyplot as plt\r\n",
        "%matplotlib inline\r\n",
        "plt.title(\"The number of rice gets per day\")\r\n",
        "plt.xlabel(\"days\")\r\n",
        "plt.ylabel(\"grain of rice\")\r\n",
        "plt.plot(list(range(1,101)),Lrice)\r\n",
        "plt.show()"
      ],
      "execution_count": 22,
      "outputs": [
        {
          "output_type": "display_data",
          "data": {
            "image/png": "[encoded data removed]",
            "text/plain": [
              "<Figure size 432x288 with 1 Axes>"
            ]
          },
          "metadata": {
            "tags": [],
            "needs_background": "light"
          }
        }
      ]
    },
    {
      "cell_type": "markdown",
      "metadata": {
        "id": "q7xV_HOftS-V"
      },
      "source": [
        "Problem 2: Number of rice grains outside of the 100th day"
      ]
    },
    {
      "cell_type": "code",
      "metadata": {
        "colab": {
          "base_uri": "https://localhost:8080/",
          "height": 610
        },
        "id": "mijIWo23tYkU",
        "outputId": "cbca3c65-6caa-4237-b8c2-f262aa0269a8"
      },
      "source": [
        "def compute_sorori_shinzaemon(day=100):\r\n",
        "  \"\"\" Lrice is the list describes the number of rice received per day while Ltotal is the list presents the total rice receive from day 1 until the ith day\"\"\"\r\n",
        "  Lrice = [1] \r\n",
        "  Ltotal = [1]\r\n",
        "  for i in range(1,day):\r\n",
        "    Lrice.append(Lrice[i-1]*2)\r\n",
        "    Ltotal.append(Ltotal[i-1] + Lrice[i]) # the total rice on previous day plus the day receive in today\r\n",
        "  plt.title(\"The number of rice per day\")\r\n",
        "  plt.xlabel(\"days\")\r\n",
        "  plt.ylabel(\"grain of rice\")\r\n",
        "  plt.plot(list(range(1,day + 1)),Lrice)\r\n",
        "  plt.grid(True)\r\n",
        "  plt.show()\r\n",
        "  plt.title(\"The total of rice\")\r\n",
        "  plt.xlabel(\"days\")\r\n",
        "  plt.ylabel(\"grain of rice\")\r\n",
        "  plt.plot(list(range(1,day + 1)),Ltotal)\r\n",
        "  plt.grid(True)\r\n",
        "  plt.show()\r\n",
        "  return Lrice, Ltotal\r\n",
        "list_n_grains, list_total_grains = compute_sorori_shinzaemon(day=300)\r\n",
        "print(\"In day 10, we receive {} grains of rice and, receive total {} grains of rice in 10 day\".format(list_n_grains[299],list_total_grains[299]))"
      ],
      "execution_count": 31,
      "outputs": [
        {
          "output_type": "display_data",
          "data": {
            "image/png": "[encoded data removed]",
            "text/plain": [
              "<Figure size 432x288 with 1 Axes>"
            ]
          },
          "metadata": {
            "tags": [],
            "needs_background": "light"
          }
        },
        {
          "output_type": "display_data",
          "data": {
            "image/png": "[encoded data removed]",
            "text/plain": [
              "<Figure size 432x288 with 1 Axes>"
            ]
          },
          "metadata": {
            "tags": [],
            "needs_background": "light"
          }
        },
        {
          "output_type": "stream",
          "text": [
            "In day 10, we receive 1018517988167243043134222844204689080525734196832968125318070224677190649881668353091698688 grains of rice and, receive total 2037035976334486086268445688409378161051468393665936250636140449354381299763336706183397375 grains of rice in 10 day\n"
          ],
          "name": "stdout"
        }
      ]
    },
    {
      "cell_type": "markdown",
      "metadata": {
        "id": "sdD5agXoxriu"
      },
      "source": [
        "Problem 3: How many people can live for how many days with the rice we get?\r\n",
        "According to this website\r\n",
        "http://selever.freeshell.org/projects/math/rice.shtml\r\n",
        "1 kg or rice contains 50.000 grains and 1 person eat 90g of rice per meal => 270g per day\r\n",
        "I assume that we have tanken the course for 300 days and there are 60 people in this clas"
      ]
    },
    {
      "cell_type": "code",
      "metadata": {
        "colab": {
          "base_uri": "https://localhost:8080/"
        },
        "id": "02a1lWFCGqfe",
        "outputId": "a15fc8df-2554-437f-9819-5c9aa201e917"
      },
      "source": [
        "def calday(rice,people):\r\n",
        "  day = rice / (people * 270)\r\n",
        "  return day\r\n",
        "print(\"60 people can survive {} days with the amount of rice receive in 300 days\".format(calday(list_total_grains[299],60)))"
      ],
      "execution_count": 32,
      "outputs": [
        {
          "output_type": "stream",
          "text": [
            "60 people can survive 1.2574296150212877e+86 days with the amount of rice receive in 300 days\n"
          ],
          "name": "stdout"
        }
      ]
    }
  ]
}