{
  "nbformat": 4,
  "nbformat_minor": 0,
  "metadata": {
    "colab": {
      "name": "Untitled3.ipynb",
      "provenance": [],
      "authorship_tag": "ABX9TyOzv9O9YCOJ8mne9ebPzI2Z",
      "include_colab_link": true
    },
    "kernelspec": {
      "name": "python3",
      "display_name": "Python 3"
    },
    "language_info": {
      "name": "python"
    }
  },
  "cells": [
    {
      "cell_type": "markdown",
      "metadata": {
        "id": "view-in-github",
        "colab_type": "text"
      },
      "source": [
        "<a href=\"https://colab.research.google.com/github/Drakies3172/machine-learning-DIVE-INTO-CODE/blob/main/week2-matrix.ipynb\" target=\"_parent\"><img src=\"https://colab.research.google.com/assets/colab-badge.svg\" alt=\"Open In Colab\"/></a>"
      ]
    },
    {
      "cell_type": "markdown",
      "metadata": {
        "id": "ASB2_i377nZZ"
      },
      "source": [
        "Problem 1"
      ]
    },
    {
      "cell_type": "markdown",
      "metadata": {
        "id": "B2jhAf5ut06y"
      },
      "source": [
        "Let 's call the result matrix is C\n",
        "so C11 = -1x0 + 2x0 + 3x2 = 6, C12 = -1x2 + 2x2 + 3x9 = 29, C13 = -1x3 + 2x6 + 3x-9 = -20\n",
        "  C21 = 4x0 + -5x0 + 6x2 = 12, C22 = 4x2 + -5x2 + 6x9=52 , C23 = 4x3 + -5x6 + 6x-9=38\n",
        "  C31 = 7x0 + 8x0 -9x2= -18, C32 = 7x2 + 8x2 -9x9=-51, C42 =  7x3 + 8x6 -9x-9= -48 \n",
        "\n"
      ]
    },
    {
      "cell_type": "markdown",
      "metadata": {
        "id": "-osuISKR7qcG"
      },
      "source": [
        "Problem 2"
      ]
    },
    {
      "cell_type": "code",
      "metadata": {
        "colab": {
          "base_uri": "https://localhost:8080/"
        },
        "id": "ZzRIuivZtT4t",
        "outputId": "db47735b-b636-4c09-bc9b-e64a7b958cc8"
      },
      "source": [
        "import numpy as np\n",
        "a_ndarray = np.array([[-1, 2, 3], [4, -5, 6], [7, 8, -9]])\n",
        "b_ndarray = np.array([[0, 2, 1], [0, 2, -8], [2, 9, -1]])\n",
        "print(np.matmul(a_ndarray,b_ndarray))\n",
        "print(np.dot(a_ndarray,b_ndarray))"
      ],
      "execution_count": 2,
      "outputs": [
        {
          "output_type": "stream",
          "text": [
            "[[  6  29 -20]\n",
            " [ 12  52  38]\n",
            " [-18 -51 -48]]\n",
            "[[  6  29 -20]\n",
            " [ 12  52  38]\n",
            " [-18 -51 -48]]\n"
          ],
          "name": "stdout"
        }
      ]
    },
    {
      "cell_type": "markdown",
      "metadata": {
        "id": "PEcZ6MDE7sFk"
      },
      "source": [
        "Problem 3"
      ]
    },
    {
      "cell_type": "code",
      "metadata": {
        "colab": {
          "base_uri": "https://localhost:8080/"
        },
        "id": "mXAHytKzw2qA",
        "outputId": "b6084cb9-4733-4580-8199-7f792fa6575e"
      },
      "source": [
        "new_rs = np.array([])\n",
        "for k in range(len(a_ndarray)):\n",
        "  for u in range(len(b_ndarray)):\n",
        "    rs = 0\n",
        "    for v in range(len(b_ndarray)):\n",
        "      rs += a_ndarray[k][v] * b_ndarray[v][u]\n",
        "    new_rs = np.concatenate((new_rs,np.array([rs])))\n",
        "print(new_rs.reshape(3,3))"
      ],
      "execution_count": 30,
      "outputs": [
        {
          "output_type": "stream",
          "text": [
            "[[  6.  29. -20.]\n",
            " [ 12.  52.  38.]\n",
            " [-18. -51. -48.]]\n"
          ],
          "name": "stdout"
        }
      ]
    },
    {
      "cell_type": "markdown",
      "metadata": {
        "id": "VqXOb_B67tbm"
      },
      "source": [
        "Problem 4"
      ]
    },
    {
      "cell_type": "code",
      "metadata": {
        "id": "1b-U-TS_3ZHY"
      },
      "source": [
        "def mamul(a_ndarray,b_ndarray):\n",
        "  new_rs = np.array([])\n",
        "  for k in range(len(a_ndarray)):\n",
        "    for u in range(len(b_ndarray)):\n",
        "      rs = 0\n",
        "      for v in range(len(b_ndarray)):\n",
        "        rs += a_ndarray[k][v] * b_ndarray[v][u]\n",
        "      new_rs = np.concatenate((new_rs,np.array([rs])))\n",
        "  try:\n",
        "    return new_rs.reshape(len(a_ndarray),len(b_ndarray[0]))\n",
        "  except:\n",
        "    print(\"An exception occurred\")"
      ],
      "execution_count": 39,
      "outputs": []
    },
    {
      "cell_type": "markdown",
      "metadata": {
        "id": "MRRr0vcJ7vmZ"
      },
      "source": [
        "Problem 5"
      ]
    },
    {
      "cell_type": "code",
      "metadata": {
        "colab": {
          "base_uri": "https://localhost:8080/"
        },
        "id": "-3dTNVcr5Pxr",
        "outputId": "e836688b-2e7b-4d6c-e2a7-ca828eb14221"
      },
      "source": [
        "d_ndarray_ = np.array([[-1, 2, 3], [4, -5, 6]])\n",
        "e_ndarray = np.array([[-9, 8, 7], [6, -5, 4]])\n",
        "mamul(d_ndarray_,e_ndarray)"
      ],
      "execution_count": 40,
      "outputs": [
        {
          "output_type": "stream",
          "text": [
            "An exception occurred\n"
          ],
          "name": "stdout"
        }
      ]
    },
    {
      "cell_type": "markdown",
      "metadata": {
        "id": "fPNznfQ67xme"
      },
      "source": [
        "Problem 6"
      ]
    },
    {
      "cell_type": "code",
      "metadata": {
        "colab": {
          "base_uri": "https://localhost:8080/"
        },
        "id": "hGTcQndA5zJk",
        "outputId": "6dd0491f-04e9-4641-f64d-ab6276bdc630"
      },
      "source": [
        "b_tranposed = np.transpose(b_ndarray)\n",
        "result = np.array([])\n",
        "for i in range(3):\n",
        "  for k in range(3):\n",
        "    result = np.concatenate((result,np.array([np.dot(a_ndarray[i],b_tranposed[k])])))\n",
        "print(result.reshape(3,3))"
      ],
      "execution_count": 50,
      "outputs": [
        {
          "output_type": "stream",
          "text": [
            "[[  6.  29. -20.]\n",
            " [ 12.  52.  38.]\n",
            " [-18. -51. -48.]]\n"
          ],
          "name": "stdout"
        }
      ]
    }
  ]
}