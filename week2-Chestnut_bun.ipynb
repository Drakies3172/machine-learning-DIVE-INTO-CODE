{
  "nbformat": 4,
  "nbformat_minor": 0,
  "metadata": {
    "colab": {
      "name": "Copy of Chestnut_bun.ipynb",
      "provenance": [],
      "collapsed_sections": [],
      "include_colab_link": true
    },
    "kernelspec": {
      "name": "python3",
      "display_name": "Python 3"
    }
  },
  "cells": [
    {
      "cell_type": "markdown",
      "metadata": {
        "id": "view-in-github",
        "colab_type": "text"
      },
      "source": [
        "<a href=\"https://colab.research.google.com/github/Drakies3172/machine-learning-DIVE-INTO-CODE/blob/main/week2-Chestnut_bun.ipynb\" target=\"_parent\"><img src=\"https://colab.research.google.com/assets/colab-badge.svg\" alt=\"Open In Colab\"/></a>"
      ]
    },
    {
      "cell_type": "markdown",
      "metadata": {
        "id": "IgczGa7EhR9Q"
      },
      "source": [
        "**Python Introduciton Class assignment 3 the chestnut bun problem**"
      ]
    },
    {
      "cell_type": "markdown",
      "metadata": {
        "id": "dXN9hizKh24S"
      },
      "source": [
        "[Problem] The day when chestnut buns cover the solar system"
      ]
    },
    {
      "cell_type": "markdown",
      "metadata": {
        "id": "tPz8cfrUq_uR"
      },
      "source": [
        "Suppose that:\r\n",
        "* The volume of the chestnut bun fit the cube \r\n",
        "with the side length is 5cm. So the volume of the chestnut bun is 0.000125*(10^-9) km3 \r\n",
        "* Solar system is a sphere with a diameter of 287.46 billion km, according to this website: https://www.universetoday.com/15585/diameter-of-the-solar-system/ "
      ]
    },
    {
      "cell_type": "code",
      "metadata": {
        "colab": {
          "base_uri": "https://localhost:8080/"
        },
        "id": "hVxX-Flfrj3v",
        "outputId": "76adc8d7-d0d4-45d0-ed39-56832df0b447"
      },
      "source": [
        "import math\r\n",
        "\r\n",
        "\r\n",
        "def calculateTime(targetedVolume):\r\n",
        "  time = 0\r\n",
        "  chestbunVol = 0.000125*(10**-9)\r\n",
        "  chestbunVols = chestbunVol\r\n",
        "  while chestbunVols < targetedVolume:\r\n",
        "    chestbunVols *= 2\r\n",
        "    time += 5\r\n",
        "  \r\n",
        "  return time\r\n",
        "\r\n",
        "\r\n",
        "solarRadius = (287.46/2)*(10**9)\r\n",
        "solarSystemVol = (solarRadius**3)*(4/3)*math.pi\r\n",
        "\r\n",
        "print(calculateTime(solarSystemVol), \" minutes to cover the solar system\")"
      ],
      "execution_count": null,
      "outputs": [
        {
          "output_type": "stream",
          "text": [
            "785  minutes to cover the solar system\n"
          ],
          "name": "stdout"
        }
      ]
    },
    {
      "cell_type": "markdown",
      "metadata": {
        "id": "PqGGucetvyd4"
      },
      "source": [
        "**Tokyo dome**\r\n",
        "\r\n",
        "From Wikipedia, Tokyo Dome volume is 1,240,000 m3"
      ]
    },
    {
      "cell_type": "code",
      "metadata": {
        "colab": {
          "base_uri": "https://localhost:8080/"
        },
        "id": "5iNKHwtGv-nc",
        "outputId": "5bea03ce-74f5-4e9c-ca12-506975c11ede"
      },
      "source": [
        "def calculateTime(targetedVolume):\r\n",
        "  time = 0\r\n",
        "  chestbunVol = 0.000125*(10**-9)\r\n",
        "  chestbunVols = chestbunVol\r\n",
        "  while chestbunVols < targetedVolume:\r\n",
        "    chestbunVols *= 2\r\n",
        "    time += 5\r\n",
        "  \r\n",
        "  return time\r\n",
        "\r\n",
        "tokyoDomeVol = 1240000 * (10**-9) # to km3\r\n",
        "print(calculateTime(tokyoDomeVol), \" minutes to fill Tokyo Dome\")"
      ],
      "execution_count": null,
      "outputs": [
        {
          "output_type": "stream",
          "text": [
            "170  minutes to fill Tokyo Dome\n"
          ],
          "name": "stdout"
        }
      ]
    },
    {
      "cell_type": "markdown",
      "metadata": {
        "id": "Ab4Gq8UUwsgH"
      },
      "source": [
        "**Visualize the processs**"
      ]
    },
    {
      "cell_type": "code",
      "metadata": {
        "colab": {
          "base_uri": "https://localhost:8080/",
          "height": 573
        },
        "id": "gv3mDjWFwxH1",
        "outputId": "899fb982-e278-4062-f78d-ace98f4a8cbd"
      },
      "source": [
        "import matplotlib.pyplot as plt\r\n",
        "\r\n",
        "def visualizeTime(targetedVolume, title, step):\r\n",
        "  time = 0\r\n",
        "  chestbunVol = 0.000125*(10**-9)\r\n",
        "  chestbunVols = chestbunVol\r\n",
        "\r\n",
        "  # two axis\r\n",
        "  volumeList = []\r\n",
        "  timeList = []\r\n",
        "\r\n",
        "  while chestbunVols < targetedVolume:\r\n",
        "    volumeList.append(chestbunVols)\r\n",
        "    timeList.append(time)\r\n",
        "    chestbunVols *= 2\r\n",
        "    time += 5\r\n",
        "  \r\n",
        "  %matplotlib inline\r\n",
        "  plt.title(\"Volume of chestnut bun to fill \" + title)\r\n",
        "  plt.xlabel(\"minutes\")\r\n",
        "  plt.ylabel(\"volume\")\r\n",
        "  plt.plot(timeList ,volumeList)\r\n",
        "  plt.plot(time,targetedVolume, color='green', marker='o', markersize=14)\r\n",
        "  plt.grid()\r\n",
        "  plt.show()\r\n",
        "visualizeTime(tokyoDomeVol, \"Tokyo Dome\", 20)\r\n",
        "\r\n",
        "visualizeTime(solarSystemVol, \"Solar system\", 100)"
      ],
      "execution_count": null,
      "outputs": [
        {
          "output_type": "display_data",
          "data": {
            "image/png": "[encoded data removed]",
            "text/plain": [
              "<Figure size 432x288 with 1 Axes>"
            ]
          },
          "metadata": {
            "tags": [],
            "needs_background": "light"
          }
        },
        {
          "output_type": "display_data",
          "data": {
            "image/png": "[encoded data removed]",
            "text/plain": [
              "<Figure size 432x288 with 1 Axes>"
            ]
          },
          "metadata": {
            "tags": [],
            "needs_background": "light"
          }
        }
      ]
    }
  ]
}