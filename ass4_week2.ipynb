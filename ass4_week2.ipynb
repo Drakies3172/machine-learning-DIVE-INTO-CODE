{
  "nbformat": 4,
  "nbformat_minor": 0,
  "metadata": {
    "colab": {
      "name": "ass4-week2.ipynb",
      "provenance": [],
      "collapsed_sections": [],
      "authorship_tag": "ABX9TyOzTs3x44ZVLGFN3OGvJE1X",
      "include_colab_link": true
    },
    "kernelspec": {
      "name": "python3",
      "display_name": "Python 3"
    }
  },
  "cells": [
    {
      "cell_type": "markdown",
      "metadata": {
        "id": "view-in-github",
        "colab_type": "text"
      },
      "source": [
        "<a href=\"https://colab.research.google.com/github/Drakies3172/machine-learning-DIVE-INTO-CODE/blob/main/ass4_week2.ipynb\" target=\"_parent\"><img src=\"https://colab.research.google.com/assets/colab-badge.svg\" alt=\"Open In Colab\"/></a>"
      ]
    },
    {
      "cell_type": "markdown",
      "metadata": {
        "id": "MNRhjyKLdP2d"
      },
      "source": [
        "Problem 1: Number of wheat on a 2 x 2 square chess board"
      ]
    },
    {
      "cell_type": "code",
      "metadata": {
        "colab": {
          "base_uri": "https://localhost:8080/"
        },
        "id": "9fay1Oq9OBzE",
        "outputId": "5cf07b61-388d-4eab-9365-0f56350adc75"
      },
      "source": [
        "import numpy as np\r\n",
        "def n_wheat(size1, size2):\r\n",
        "  square_board = []\r\n",
        "  for i in range(0,size1):\r\n",
        "    square_board.append([])\r\n",
        "    for k in range(0,size2):\r\n",
        "      if k == 0 and i == 0:\r\n",
        "          square_board[0].append(1)\r\n",
        "      elif k == 0:  \r\n",
        "          square_board[i].append(square_board[i-1][size1-1]*2)\r\n",
        "      else:\r\n",
        "        square_board[i].append(square_board[i][k-1]*2)\r\n",
        "  return square_board\r\n",
        "small_board_ndarray = np.array(n_wheat(2,2))\r\n",
        "print(small_board_ndarray)"
      ],
      "execution_count": 16,
      "outputs": [
        {
          "output_type": "stream",
          "text": [
            "[[1 2]\n",
            " [4 8]]\n"
          ],
          "name": "stdout"
        }
      ]
    },
    {
      "cell_type": "markdown",
      "metadata": {
        "id": "ABjoK1ISd5rf"
      },
      "source": [
        "Problem 2: Expansion to n × m mass"
      ]
    },
    {
      "cell_type": "code",
      "metadata": {
        "colab": {
          "base_uri": "https://localhost:8080/"
        },
        "id": "dzpRJULMdu_T",
        "outputId": "b36cf079-0ef0-4d77-ed23-e51f927eac06"
      },
      "source": [
        "chest_board = np.array(n_wheat(8,8))\r\n",
        "print(chest_board)"
      ],
      "execution_count": 45,
      "outputs": [
        {
          "output_type": "stream",
          "text": [
            "[[1.00000000e+00 2.00000000e+00 4.00000000e+00 8.00000000e+00\n",
            "  1.60000000e+01 3.20000000e+01 6.40000000e+01 1.28000000e+02]\n",
            " [2.56000000e+02 5.12000000e+02 1.02400000e+03 2.04800000e+03\n",
            "  4.09600000e+03 8.19200000e+03 1.63840000e+04 3.27680000e+04]\n",
            " [6.55360000e+04 1.31072000e+05 2.62144000e+05 5.24288000e+05\n",
            "  1.04857600e+06 2.09715200e+06 4.19430400e+06 8.38860800e+06]\n",
            " [1.67772160e+07 3.35544320e+07 6.71088640e+07 1.34217728e+08\n",
            "  2.68435456e+08 5.36870912e+08 1.07374182e+09 2.14748365e+09]\n",
            " [4.29496730e+09 8.58993459e+09 1.71798692e+10 3.43597384e+10\n",
            "  6.87194767e+10 1.37438953e+11 2.74877907e+11 5.49755814e+11]\n",
            " [1.09951163e+12 2.19902326e+12 4.39804651e+12 8.79609302e+12\n",
            "  1.75921860e+13 3.51843721e+13 7.03687442e+13 1.40737488e+14]\n",
            " [2.81474977e+14 5.62949953e+14 1.12589991e+15 2.25179981e+15\n",
            "  4.50359963e+15 9.00719925e+15 1.80143985e+16 3.60287970e+16]\n",
            " [7.20575940e+16 1.44115188e+17 2.88230376e+17 5.76460752e+17\n",
            "  1.15292150e+18 2.30584301e+18 4.61168602e+18 9.22337204e+18]]\n"
          ],
          "name": "stdout"
        }
      ]
    },
    {
      "cell_type": "markdown",
      "metadata": {
        "id": "_ssix37sebnF"
      },
      "source": [
        "Problem 3: Total number of wheat"
      ]
    },
    {
      "cell_type": "code",
      "metadata": {
        "id": "2nLuRCZGezFH"
      },
      "source": [
        "def total_wheat(size1, size2):\r\n",
        "  square_board = []\r\n",
        "  total = []\r\n",
        "  for i in range(0,size1):\r\n",
        "    square_board.append([])\r\n",
        "    total.append([])\r\n",
        "    for k in range(0,size2):\r\n",
        "      if k == 0 and i == 0:\r\n",
        "        square_board[0].append(1)\r\n",
        "        total[0].append(1)\r\n",
        "      elif k == 0:  \r\n",
        "        wheat_take = square_board[i-1][size1-1]*2 \r\n",
        "        square_board[i].append(wheat_take )\r\n",
        "        total[i].append(total[i-1][size1-1] + wheat_take)\r\n",
        "      else:\r\n",
        "        wheat_take = square_board[i][k-1]*2\r\n",
        "        square_board[i].append( wheat_take)\r\n",
        "        total[i].append(total[i][k-1] + wheat_take)\r\n",
        "  return total\r\n"
      ],
      "execution_count": 20,
      "outputs": []
    },
    {
      "cell_type": "code",
      "metadata": {
        "colab": {
          "base_uri": "https://localhost:8080/"
        },
        "id": "ps41Vzx60Bxq",
        "outputId": "6183c2d1-c0ec-4e28-99dc-3c20fae9329a"
      },
      "source": [
        "total_board = np.array(total_wheat(8,8))\r\n",
        "print(\"before tranposing:\\n\",total_board)\r\n",
        "T = total_board.transpose()\r\n",
        "print(\"after tranposing:\\n\",T)\r\n",
        "means = []\r\n",
        "for i in T:\r\n",
        "  means.append(i.mean())\r\n",
        "print(means)"
      ],
      "execution_count": 46,
      "outputs": [
        {
          "output_type": "stream",
          "text": [
            "before tranposing:\n",
            " [[1.00000000e+00 3.00000000e+00 7.00000000e+00 1.50000000e+01\n",
            "  3.10000000e+01 6.30000000e+01 1.27000000e+02 2.55000000e+02]\n",
            " [5.11000000e+02 1.02300000e+03 2.04700000e+03 4.09500000e+03\n",
            "  8.19100000e+03 1.63830000e+04 3.27670000e+04 6.55350000e+04]\n",
            " [1.31071000e+05 2.62143000e+05 5.24287000e+05 1.04857500e+06\n",
            "  2.09715100e+06 4.19430300e+06 8.38860700e+06 1.67772150e+07]\n",
            " [3.35544310e+07 6.71088630e+07 1.34217727e+08 2.68435455e+08\n",
            "  5.36870911e+08 1.07374182e+09 2.14748365e+09 4.29496730e+09]\n",
            " [8.58993459e+09 1.71798692e+10 3.43597384e+10 6.87194767e+10\n",
            "  1.37438953e+11 2.74877907e+11 5.49755814e+11 1.09951163e+12]\n",
            " [2.19902326e+12 4.39804651e+12 8.79609302e+12 1.75921860e+13\n",
            "  3.51843721e+13 7.03687442e+13 1.40737488e+14 2.81474977e+14]\n",
            " [5.62949953e+14 1.12589991e+15 2.25179981e+15 4.50359963e+15\n",
            "  9.00719925e+15 1.80143985e+16 3.60287970e+16 7.20575940e+16]\n",
            " [1.44115188e+17 2.88230376e+17 5.76460752e+17 1.15292150e+18\n",
            "  2.30584301e+18 4.61168602e+18 9.22337204e+18 1.84467441e+19]]\n",
            "after tranposing:\n",
            " [[1.00000000e+00 5.11000000e+02 1.31071000e+05 3.35544310e+07\n",
            "  8.58993459e+09 2.19902326e+12 5.62949953e+14 1.44115188e+17]\n",
            " [3.00000000e+00 1.02300000e+03 2.62143000e+05 6.71088630e+07\n",
            "  1.71798692e+10 4.39804651e+12 1.12589991e+15 2.88230376e+17]\n",
            " [7.00000000e+00 2.04700000e+03 5.24287000e+05 1.34217727e+08\n",
            "  3.43597384e+10 8.79609302e+12 2.25179981e+15 5.76460752e+17]\n",
            " [1.50000000e+01 4.09500000e+03 1.04857500e+06 2.68435455e+08\n",
            "  6.87194767e+10 1.75921860e+13 4.50359963e+15 1.15292150e+18]\n",
            " [3.10000000e+01 8.19100000e+03 2.09715100e+06 5.36870911e+08\n",
            "  1.37438953e+11 3.51843721e+13 9.00719925e+15 2.30584301e+18]\n",
            " [6.30000000e+01 1.63830000e+04 4.19430300e+06 1.07374182e+09\n",
            "  2.74877907e+11 7.03687442e+13 1.80143985e+16 4.61168602e+18]\n",
            " [1.27000000e+02 3.27670000e+04 8.38860700e+06 2.14748365e+09\n",
            "  5.49755814e+11 1.40737488e+14 3.60287970e+16 9.22337204e+18]\n",
            " [2.55000000e+02 6.55350000e+04 1.67772150e+07 4.29496730e+09\n",
            "  1.09951163e+12 2.81474977e+14 7.20575940e+16 1.84467441e+19]]\n",
            "[1.808504320951917e+16, 3.617008641903834e+16, 7.234017283807667e+16, 1.4468034567615334e+17, 2.893606913523067e+17, 5.787213827046134e+17, 1.1574427654092268e+18, 2.3148855308184535e+18]\n"
          ],
          "name": "stdout"
        }
      ]
    },
    {
      "cell_type": "code",
      "metadata": {
        "colab": {
          "base_uri": "https://localhost:8080/",
          "height": 350
        },
        "id": "QLbEFoKl0Opx",
        "outputId": "a4e943e4-c20f-485b-b937-8b085c51e666"
      },
      "source": [
        "\r\n",
        "import matplotlib.pyplot as plt \r\n",
        "  \r\n",
        "fig = plt.figure(figsize = (10, 5))\r\n",
        " \r\n",
        "# creating the bar plot\r\n",
        "plt.bar([\"1\",\"2\",\"3\",\"4\",\"5\",\"6\",\"7\",\"8\"], means, color ='maroon', \r\n",
        "        width = 0.4)\r\n",
        " \r\n",
        "plt.xlabel(\"Column\")\r\n",
        "plt.ylabel(\"Amount of wheat\")\r\n",
        "plt.title(\"Avg of wheat in 8 collumns\")\r\n",
        "plt.show()"
      ],
      "execution_count": 47,
      "outputs": [
        {
          "output_type": "display_data",
          "data": {
            "image/png": "[encoded data removed]",
            "text/plain": [
              "<Figure size 720x360 with 1 Axes>"
            ]
          },
          "metadata": {
            "tags": [],
            "needs_background": "light"
          }
        }
      ]
    },
    {
      "cell_type": "markdown",
      "metadata": {
        "id": "_Id3MYD72TrY"
      },
      "source": [
        "Problem 4: Heat map of the number of wheat"
      ]
    },
    {
      "cell_type": "code",
      "metadata": {
        "colab": {
          "base_uri": "https://localhost:8080/",
          "height": 295
        },
        "id": "i0jy5dRZ2Z5s",
        "outputId": "e823b80a-8f1d-4e48-9b90-b107a60b8b45"
      },
      "source": [
        "plt.xlabel(\"column\")\r\n",
        "plt.ylabel(\"row\")\r\n",
        "plt.title(\"heatmap of wheat\")\r\n",
        "plt.pcolor(chest_board)\r\n",
        "plt.show()"
      ],
      "execution_count": 48,
      "outputs": [
        {
          "output_type": "display_data",
          "data": {
            "image/png": "[encoded data removed]",
            "text/plain": [
              "<Figure size 432x288 with 1 Axes>"
            ]
          },
          "metadata": {
            "tags": [],
            "needs_background": "light"
          }
        }
      ]
    },
    {
      "cell_type": "markdown",
      "metadata": {
        "id": "tnIuJAQK3Eys"
      },
      "source": [
        "Problem 5: How many times is the second half as long as the first half?"
      ]
    },
    {
      "cell_type": "code",
      "metadata": {
        "colab": {
          "base_uri": "https://localhost:8080/"
        },
        "id": "kMJanFxQ3Ei8",
        "outputId": "a2979713-f2b0-4c21-998e-39fe4ea855d4"
      },
      "source": [
        "first_haft = 0\r\n",
        "second_haft = 0\r\n",
        "for i in range(0,8):\r\n",
        "  for k in chest_board[i]:\r\n",
        "    if i <= 3:\r\n",
        "      first_haft += k\r\n",
        "    else:\r\n",
        "      second_haft +=k\r\n",
        "print(\"The ratio between second half and first half is {} times\".format(second_haft/first_haft))"
      ],
      "execution_count": 51,
      "outputs": [
        {
          "output_type": "stream",
          "text": [
            "The ratio between second half and first half is 4294967296.0 times\n"
          ],
          "name": "stdout"
        }
      ]
    },
    {
      "cell_type": "markdown",
      "metadata": {
        "id": "EHlOsVZh5nOO"
      },
      "source": [
        "Problem 6: Expansion to n × m mass by another calculation method"
      ]
    },
    {
      "cell_type": "code",
      "metadata": {
        "colab": {
          "base_uri": "https://localhost:8080/"
        },
        "id": "dfdnjnxq9_wC",
        "outputId": "7372fd90-216b-44e5-cd7b-70552ba96604"
      },
      "source": [
        "def np_append(size):\r\n",
        "  n_squares = size**2\r\n",
        "  rs = np.array([1])\r\n",
        "  for i in range(1,n_squares):\r\n",
        "    rs = np.append(rs,2*rs[i-1].astype(np.uint64))\r\n",
        "  return rs.reshape(8,8)\r\n",
        "print(np_append(8))"
      ],
      "execution_count": 81,
      "outputs": [
        {
          "output_type": "stream",
          "text": [
            "[[1.00000000e+00 2.00000000e+00 4.00000000e+00 8.00000000e+00\n",
            "  1.60000000e+01 3.20000000e+01 6.40000000e+01 1.28000000e+02]\n",
            " [2.56000000e+02 5.12000000e+02 1.02400000e+03 2.04800000e+03\n",
            "  4.09600000e+03 8.19200000e+03 1.63840000e+04 3.27680000e+04]\n",
            " [6.55360000e+04 1.31072000e+05 2.62144000e+05 5.24288000e+05\n",
            "  1.04857600e+06 2.09715200e+06 4.19430400e+06 8.38860800e+06]\n",
            " [1.67772160e+07 3.35544320e+07 6.71088640e+07 1.34217728e+08\n",
            "  2.68435456e+08 5.36870912e+08 1.07374182e+09 2.14748365e+09]\n",
            " [4.29496730e+09 8.58993459e+09 1.71798692e+10 3.43597384e+10\n",
            "  6.87194767e+10 1.37438953e+11 2.74877907e+11 5.49755814e+11]\n",
            " [1.09951163e+12 2.19902326e+12 4.39804651e+12 8.79609302e+12\n",
            "  1.75921860e+13 3.51843721e+13 7.03687442e+13 1.40737488e+14]\n",
            " [2.81474977e+14 5.62949953e+14 1.12589991e+15 2.25179981e+15\n",
            "  4.50359963e+15 9.00719925e+15 1.80143985e+16 3.60287970e+16]\n",
            " [7.20575940e+16 1.44115188e+17 2.88230376e+17 5.76460752e+17\n",
            "  1.15292150e+18 2.30584301e+18 4.61168602e+18 9.22337204e+18]]\n"
          ],
          "name": "stdout"
        }
      ]
    },
    {
      "cell_type": "code",
      "metadata": {
        "colab": {
          "base_uri": "https://localhost:8080/"
        },
        "id": "aGw4CSAJ5Rb5",
        "outputId": "cfcaba12-5d31-408d-dea4-16adc725ed40"
      },
      "source": [
        "def np_broadcast(size):\r\n",
        "  n_squares = size**2\r\n",
        "  indices_of_squares = np.arange(n_squares).astype(np.uint64)\r\n",
        "  board_ndarray = 2**indices_of_squares\r\n",
        "  return board_ndarray.reshape(8,8)\r\n",
        "print(np_broadcast(8))"
      ],
      "execution_count": 73,
      "outputs": [
        {
          "output_type": "stream",
          "text": [
            "[[                  1                   2                   4\n",
            "                    8                  16                  32\n",
            "                   64                 128]\n",
            " [                256                 512                1024\n",
            "                 2048                4096                8192\n",
            "                16384               32768]\n",
            " [              65536              131072              262144\n",
            "               524288             1048576             2097152\n",
            "              4194304             8388608]\n",
            " [           16777216            33554432            67108864\n",
            "            134217728           268435456           536870912\n",
            "           1073741824          2147483648]\n",
            " [         4294967296          8589934592         17179869184\n",
            "          34359738368         68719476736        137438953472\n",
            "         274877906944        549755813888]\n",
            " [      1099511627776       2199023255552       4398046511104\n",
            "        8796093022208      17592186044416      35184372088832\n",
            "       70368744177664     140737488355328]\n",
            " [    281474976710656     562949953421312    1125899906842624\n",
            "     2251799813685248    4503599627370496    9007199254740992\n",
            "    18014398509481984   36028797018963968]\n",
            " [  72057594037927936  144115188075855872  288230376151711744\n",
            "   576460752303423488 1152921504606846976 2305843009213693952\n",
            "  4611686018427387904 9223372036854775808]]\n"
          ],
          "name": "stdout"
        }
      ]
    },
    {
      "cell_type": "markdown",
      "metadata": {
        "id": "RDLIQjYrADsX"
      },
      "source": [
        "Problem 7: Comparing calculation times"
      ]
    },
    {
      "cell_type": "code",
      "metadata": {
        "colab": {
          "base_uri": "https://localhost:8080/"
        },
        "id": "haiz7g1G_agZ",
        "outputId": "8deeac1b-7e1c-4576-fdb6-39ae626f0347"
      },
      "source": [
        "%%timeit\r\n",
        "np_append(8)"
      ],
      "execution_count": 84,
      "outputs": [
        {
          "output_type": "stream",
          "text": [
            "1000 loops, best of 5: 719 µs per loop\n"
          ],
          "name": "stdout"
        }
      ]
    },
    {
      "cell_type": "code",
      "metadata": {
        "colab": {
          "base_uri": "https://localhost:8080/"
        },
        "id": "qaxk4ojlAIDK",
        "outputId": "385ed637-6222-439b-93af-5d698d2de586"
      },
      "source": [
        "%%timeit\r\n",
        "np_broadcast(8)"
      ],
      "execution_count": 83,
      "outputs": [
        {
          "output_type": "stream",
          "text": [
            "The slowest run took 224.93 times longer than the fastest. This could mean that an intermediate result is being cached.\n",
            "100000 loops, best of 5: 4.45 µs per loop\n"
          ],
          "name": "stdout"
        }
      ]
    },
    {
      "cell_type": "code",
      "metadata": {
        "colab": {
          "base_uri": "https://localhost:8080/"
        },
        "id": "CjEtCcA8AOhR",
        "outputId": "45c85bbd-e882-48da-b777-f451bdf07a12"
      },
      "source": [
        "%%timeit\r\n",
        "n_wheat(8,8)"
      ],
      "execution_count": 86,
      "outputs": [
        {
          "output_type": "stream",
          "text": [
            "100000 loops, best of 5: 17.5 µs per loop\n"
          ],
          "name": "stdout"
        }
      ]
    },
    {
      "cell_type": "markdown",
      "metadata": {
        "id": "KYKs8T5YAdE_"
      },
      "source": [
        "Overall, the broadcast method has inconsistency in time executions, when np_append and the first one give more consistent time executions.\r\n",
        "np_broadcast also gives the best result in run time."
      ]
    }
  ]
}